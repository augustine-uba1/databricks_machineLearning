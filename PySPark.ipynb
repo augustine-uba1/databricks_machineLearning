{
  "nbformat": 4,
  "nbformat_minor": 0,
  "metadata": {
    "colab": {
      "provenance": [],
      "authorship_tag": "ABX9TyOTk9auEZ0gWVUKKRZVa6LT",
      "include_colab_link": true
    },
    "kernelspec": {
      "name": "python3",
      "display_name": "Python 3"
    },
    "language_info": {
      "name": "python"
    }
  },
  "cells": [
    {
      "cell_type": "markdown",
      "metadata": {
        "id": "view-in-github",
        "colab_type": "text"
      },
      "source": [
        "<a href=\"https://colab.research.google.com/github/augustine-uba1/databricks_machineLearning/blob/main/PySPark.ipynb\" target=\"_parent\"><img src=\"https://colab.research.google.com/assets/colab-badge.svg\" alt=\"Open In Colab\"/></a>"
      ]
    },
    {
      "cell_type": "markdown",
      "source": [
        "# PySpark Introduction"
      ],
      "metadata": {
        "id": "c9HU1STRUknn"
      }
    },
    {
      "cell_type": "code",
      "execution_count": null,
      "metadata": {
        "id": "FnVfIyPMH9Vm"
      },
      "outputs": [],
      "source": [
        "## Install pyspark\n",
        "!pip install pyspark"
      ]
    },
    {
      "cell_type": "markdown",
      "source": [
        "**Import pyspark**"
      ],
      "metadata": {
        "id": "Hbh4AI22O4X4"
      }
    },
    {
      "cell_type": "code",
      "source": [
        "import pyspark"
      ],
      "metadata": {
        "id": "Codqi1XkI_Eq"
      },
      "execution_count": 3,
      "outputs": []
    },
    {
      "cell_type": "code",
      "source": [
        "## import the SparkSession class from the pyspark.sql module. The SparkSession class is the entry point for working with Spark SQL in PySpark\n",
        "##create a SparkSession object named spark, In the below example, the appName parameter is set to 'Sample'\n",
        "##getOrCreate method checks if a SparkSession already exists. If it does, it returns the existing SparkSession; otherwise, it creates a new one\n",
        "\n",
        "from pyspark.sql import SparkSession\n",
        "spark = SparkSession.builder.appName('Sample').getOrCreate()"
      ],
      "metadata": {
        "id": "wvnIHAirL9dw"
      },
      "execution_count": 9,
      "outputs": []
    },
    {
      "cell_type": "code",
      "source": [
        "spark"
      ],
      "metadata": {
        "colab": {
          "base_uri": "https://localhost:8080/",
          "height": 219
        },
        "id": "UJinXIh2MBzY",
        "outputId": "fb184a9d-030e-4397-c0b5-1d706b4bdd31"
      },
      "execution_count": 10,
      "outputs": [
        {
          "output_type": "execute_result",
          "data": {
            "text/plain": [
              "<pyspark.sql.session.SparkSession at 0x7c1ec18364d0>"
            ],
            "text/html": [
              "\n",
              "            <div>\n",
              "                <p><b>SparkSession - in-memory</b></p>\n",
              "                \n",
              "        <div>\n",
              "            <p><b>SparkContext</b></p>\n",
              "\n",
              "            <p><a href=\"http://5f45522b6118:4040\">Spark UI</a></p>\n",
              "\n",
              "            <dl>\n",
              "              <dt>Version</dt>\n",
              "                <dd><code>v3.4.1</code></dd>\n",
              "              <dt>Master</dt>\n",
              "                <dd><code>local[*]</code></dd>\n",
              "              <dt>AppName</dt>\n",
              "                <dd><code>Sample</code></dd>\n",
              "            </dl>\n",
              "        </div>\n",
              "        \n",
              "            </div>\n",
              "        "
            ]
          },
          "metadata": {},
          "execution_count": 10
        }
      ]
    },
    {
      "cell_type": "code",
      "source": [
        "## read a csv file into a pyspark dataframe. You can specify the read format, csv, parquet, table.. see documentation for more read formats\n",
        "pyspark_df = spark.read.option('header', 'true').csv('users1.csv')"
      ],
      "metadata": {
        "id": "9cfnL1nLMCZD"
      },
      "execution_count": 22,
      "outputs": []
    },
    {
      "cell_type": "code",
      "source": [
        "pyspark_df.show()"
      ],
      "metadata": {
        "colab": {
          "base_uri": "https://localhost:8080/"
        },
        "id": "nFLdv0uxSdbm",
        "outputId": "1d763d57-a5a1-4084-d6b3-180a27837415"
      },
      "execution_count": 23,
      "outputs": [
        {
          "output_type": "stream",
          "name": "stdout",
          "text": [
            "+--------+---+----------+\n",
            "|Username|Age|experience|\n",
            "+--------+---+----------+\n",
            "|     Sam| 54|        15|\n",
            "|  Justin| 31|        12|\n",
            "|    Phil| 20|         5|\n",
            "|  Roland| 25|         7|\n",
            "+--------+---+----------+\n",
            "\n"
          ]
        }
      ]
    },
    {
      "cell_type": "code",
      "source": [
        "type(pyspark_df)"
      ],
      "metadata": {
        "colab": {
          "base_uri": "https://localhost:8080/"
        },
        "id": "9R65qNn6SlRM",
        "outputId": "5967a782-8a7f-4eb7-ccff-fc6da6ae4e3d"
      },
      "execution_count": 37,
      "outputs": [
        {
          "output_type": "execute_result",
          "data": {
            "text/plain": [
              "pyspark.sql.dataframe.DataFrame"
            ]
          },
          "metadata": {},
          "execution_count": 37
        }
      ]
    },
    {
      "cell_type": "code",
      "source": [
        "pyspark_df.dtypes"
      ],
      "metadata": {
        "colab": {
          "base_uri": "https://localhost:8080/"
        },
        "id": "WyEhqzAaUpG1",
        "outputId": "405b68ce-be78-40c0-c825-8df4182b904f"
      },
      "execution_count": 38,
      "outputs": [
        {
          "output_type": "execute_result",
          "data": {
            "text/plain": [
              "[('Username', 'string'), ('Age', 'int'), ('experience', 'int')]"
            ]
          },
          "metadata": {},
          "execution_count": 38
        }
      ]
    },
    {
      "cell_type": "code",
      "source": [
        "pyspark_df.printSchema()"
      ],
      "metadata": {
        "colab": {
          "base_uri": "https://localhost:8080/"
        },
        "id": "g6uoAACCUBoN",
        "outputId": "c0452d0f-5376-4c0d-d03e-19311faa7092"
      },
      "execution_count": 25,
      "outputs": [
        {
          "output_type": "stream",
          "name": "stdout",
          "text": [
            "root\n",
            " |-- Username: string (nullable = true)\n",
            " |-- Age: string (nullable = true)\n",
            " |-- experience: string (nullable = true)\n",
            "\n"
          ]
        }
      ]
    },
    {
      "cell_type": "code",
      "source": [
        "pyspark_df.head(5)"
      ],
      "metadata": {
        "colab": {
          "base_uri": "https://localhost:8080/"
        },
        "id": "_1qY4__XTt40",
        "outputId": "a58f5c4f-0a52-4464-85de-e683ca59976a"
      },
      "execution_count": 26,
      "outputs": [
        {
          "output_type": "execute_result",
          "data": {
            "text/plain": [
              "[Row(Username='Sam', Age='54', experience='15'),\n",
              " Row(Username='Justin', Age='31', experience='12'),\n",
              " Row(Username='Phil', Age='20', experience='5'),\n",
              " Row(Username='Roland', Age='25', experience='7')]"
            ]
          },
          "metadata": {},
          "execution_count": 26
        }
      ]
    },
    {
      "cell_type": "markdown",
      "source": [
        "# Data Wrangling - Dataframe operations\n",
        "*   viewing datatype schema\n",
        "*   returning specific columns and column indexing\n",
        "*   adding, dropimg and renaming columns\n",
        "\n"
      ],
      "metadata": {
        "id": "sxhZKya8VhcL"
      }
    },
    {
      "cell_type": "code",
      "source": [
        "## check datatype schema\n",
        "pyspark_df.printSchema()"
      ],
      "metadata": {
        "colab": {
          "base_uri": "https://localhost:8080/"
        },
        "id": "GmAzDPteVo80",
        "outputId": "98ef880d-ce30-46f9-cfa1-31f225840ab3"
      },
      "execution_count": 27,
      "outputs": [
        {
          "output_type": "stream",
          "name": "stdout",
          "text": [
            "root\n",
            " |-- Username: string (nullable = true)\n",
            " |-- Age: string (nullable = true)\n",
            " |-- experience: string (nullable = true)\n",
            "\n"
          ]
        }
      ]
    },
    {
      "cell_type": "code",
      "source": [
        "## here we specify the data types of the columns\n",
        "pyspark_df = spark.read.csv('users1.csv', header=True, inferSchema = True)\n",
        "pyspark_df.show()"
      ],
      "metadata": {
        "colab": {
          "base_uri": "https://localhost:8080/"
        },
        "id": "yh6izIggcIzw",
        "outputId": "a138861a-91ab-47ae-98d4-a28019de83da"
      },
      "execution_count": 33,
      "outputs": [
        {
          "output_type": "stream",
          "name": "stdout",
          "text": [
            "+--------+---+----------+\n",
            "|Username|Age|experience|\n",
            "+--------+---+----------+\n",
            "|     Sam| 54|        15|\n",
            "|  Justin| 31|        12|\n",
            "|    Phil| 20|         5|\n",
            "|  Roland| 25|         7|\n",
            "+--------+---+----------+\n",
            "\n"
          ]
        }
      ]
    },
    {
      "cell_type": "code",
      "source": [
        "## check datatype schema\n",
        "pyspark_df.printSchema()"
      ],
      "metadata": {
        "colab": {
          "base_uri": "https://localhost:8080/"
        },
        "id": "18wQ3kSUcTBv",
        "outputId": "b93a1c78-1ff0-406f-b313-ee9e8a6f38a9"
      },
      "execution_count": 29,
      "outputs": [
        {
          "output_type": "stream",
          "name": "stdout",
          "text": [
            "root\n",
            " |-- Username: string (nullable = true)\n",
            " |-- Age: integer (nullable = true)\n",
            " |-- experience: integer (nullable = true)\n",
            "\n"
          ]
        }
      ]
    },
    {
      "cell_type": "code",
      "source": [
        "## selecting multiple columns\n",
        "pyspark_df.select(['Username', 'experience']).show()"
      ],
      "metadata": {
        "colab": {
          "base_uri": "https://localhost:8080/"
        },
        "id": "ejrF6B8ucWFj",
        "outputId": "9ac39f93-e1c2-4970-b5b6-cdbf6109edcd"
      },
      "execution_count": 35,
      "outputs": [
        {
          "output_type": "stream",
          "name": "stdout",
          "text": [
            "+--------+----------+\n",
            "|Username|experience|\n",
            "+--------+----------+\n",
            "|     Sam|        15|\n",
            "|  Justin|        12|\n",
            "|    Phil|         5|\n",
            "|  Roland|         7|\n",
            "+--------+----------+\n",
            "\n"
          ]
        }
      ]
    },
    {
      "cell_type": "code",
      "source": [
        "##indexing a column\n",
        "indexed_col = pyspark_df.select(pyspark_df[ 'experience',][0].alias(\"indexed_col\"))\n",
        "indexed_col.show()"
      ],
      "metadata": {
        "colab": {
          "base_uri": "https://localhost:8080/"
        },
        "id": "ZAPLw7yxiTYp",
        "outputId": "3ebd55f1-d83c-479b-ad47-6147ed7945c7"
      },
      "execution_count": 47,
      "outputs": [
        {
          "output_type": "stream",
          "name": "stdout",
          "text": [
            "+-----------+\n",
            "|indexed_col|\n",
            "+-----------+\n",
            "|         15|\n",
            "|         12|\n",
            "|          5|\n",
            "|          7|\n",
            "+-----------+\n",
            "\n"
          ]
        }
      ]
    },
    {
      "cell_type": "code",
      "source": [
        "## describing (summarysing) values in a dataframe\n",
        "pyspark_df.describe().show()"
      ],
      "metadata": {
        "colab": {
          "base_uri": "https://localhost:8080/"
        },
        "id": "_w0rds5asUBs",
        "outputId": "0473a13b-1530-4005-e84b-82234233abbb"
      },
      "execution_count": 48,
      "outputs": [
        {
          "output_type": "stream",
          "name": "stdout",
          "text": [
            "+-------+--------+------------------+-----------------+\n",
            "|summary|Username|               Age|       experience|\n",
            "+-------+--------+------------------+-----------------+\n",
            "|  count|       4|                 4|                4|\n",
            "|   mean|    null|              32.5|             9.75|\n",
            "| stddev|    null|15.022205785658333|4.573474244670748|\n",
            "|    min|  Justin|                20|                5|\n",
            "|    max|     Sam|                54|               15|\n",
            "+-------+--------+------------------+-----------------+\n",
            "\n"
          ]
        }
      ]
    },
    {
      "cell_type": "code",
      "source": [
        "## adding columns in dataframes\n",
        "pyspark_df = pyspark_df.withColumn('experience after 10 years', pyspark_df['experience'] + 10)\n",
        "pyspark_df.show()"
      ],
      "metadata": {
        "colab": {
          "base_uri": "https://localhost:8080/"
        },
        "id": "IH4nPybauhRI",
        "outputId": "2d68c7ae-a851-4d7d-e1ce-a3f2f106e6bf"
      },
      "execution_count": 52,
      "outputs": [
        {
          "output_type": "stream",
          "name": "stdout",
          "text": [
            "+--------+---+----------+-------------------------+\n",
            "|Username|Age|experience|experience after 10 years|\n",
            "+--------+---+----------+-------------------------+\n",
            "|     Sam| 54|        15|                       25|\n",
            "|  Justin| 31|        12|                       22|\n",
            "|    Phil| 20|         5|                       15|\n",
            "|  Roland| 25|         7|                       17|\n",
            "+--------+---+----------+-------------------------+\n",
            "\n"
          ]
        }
      ]
    },
    {
      "cell_type": "code",
      "source": [
        "## droping a column\n",
        "pyspark_df = pyspark_df.drop('experience after 10 years')\n",
        "pyspark_df.show()"
      ],
      "metadata": {
        "colab": {
          "base_uri": "https://localhost:8080/"
        },
        "id": "y8hVVTXDvU1G",
        "outputId": "3b7621a7-cdcb-4289-fcdb-724d30743910"
      },
      "execution_count": 54,
      "outputs": [
        {
          "output_type": "stream",
          "name": "stdout",
          "text": [
            "+--------+---+----------+\n",
            "|Username|Age|experience|\n",
            "+--------+---+----------+\n",
            "|     Sam| 54|        15|\n",
            "|  Justin| 31|        12|\n",
            "|    Phil| 20|         5|\n",
            "|  Roland| 25|         7|\n",
            "+--------+---+----------+\n",
            "\n"
          ]
        }
      ]
    },
    {
      "cell_type": "code",
      "source": [
        "## Rename a column\n",
        "pyspark_df.withColumnRenamed('experience', 'working years').show()"
      ],
      "metadata": {
        "colab": {
          "base_uri": "https://localhost:8080/"
        },
        "id": "UziYngyWvmT8",
        "outputId": "fbfb1aec-352f-4420-cb95-25d17280332f"
      },
      "execution_count": 55,
      "outputs": [
        {
          "output_type": "stream",
          "name": "stdout",
          "text": [
            "+--------+---+-------------+\n",
            "|Username|Age|working years|\n",
            "+--------+---+-------------+\n",
            "|     Sam| 54|           15|\n",
            "|  Justin| 31|           12|\n",
            "|    Phil| 20|            5|\n",
            "|  Roland| 25|            7|\n",
            "+--------+---+-------------+\n",
            "\n"
          ]
        }
      ]
    }
  ]
}